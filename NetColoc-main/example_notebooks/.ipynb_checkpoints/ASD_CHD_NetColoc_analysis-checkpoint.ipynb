{
 "cells": [
  {
   "cell_type": "markdown",
   "metadata": {},
   "source": [
    "# NetColoc analysis of rare variants in Autism spectrum disorder (ASD) and Congenital Heart Disease (CHD)\n",
    "\n",
    "Example of NetColoc workflow on genes associated with rare exome variants in ASD and CHD\n",
    "\n",
    "**Some background:**\n",
    "\n",
    "Here we introduce NetColoc, a tool which evaluates the extent to which two gene sets are related in network space, i.e. the extent to which they are colocalized in a molecular interaction network, and interrogates the underlying biological pathways and processes using multiscale community detection. This framework may be applied to any number of scenarios in which gene sets have been associated with a phenotype or condition, including rare and common variants within the same disease, genes associated with two comorbid diseases, genetically correlated GWAS phenotypes, GWAS across two different species, or gene expression changes after treatment with two different drugs, to name a few. NetColoc relies on a dual network propagation approach to identify the region of network space which is significantly proximal to both input gene sets, and as such is highly effective for small to medium input gene sets.\n",
    "\n"
   ]
  },
  {
   "cell_type": "markdown",
   "metadata": {},
   "source": [
    "# _Obtain input gene sets and interactome_\n",
    "\n",
    "## 1. Load required packages"
   ]
  },
  {
   "cell_type": "code",
   "execution_count": 1,
   "metadata": {
    "ExecuteTime": {
     "end_time": "2022-06-24T21:21:41.078493Z",
     "start_time": "2022-06-24T21:21:35.224229Z"
    }
   },
   "outputs": [
    {
     "name": "stderr",
     "output_type": "stream",
     "text": [
      "DISCLAIMIER: cdapsutil is experimental and may contain errors and interfaces may change\n"
     ]
    }
   ],
   "source": [
    "# load required packages\n",
    "import numpy as np\n",
    "import matplotlib.pyplot as plt\n",
    "import seaborn as sns\n",
    "import networkx as nx\n",
    "import pandas as pd\n",
    "import re\n",
    "import random\n",
    "\n",
    "from IPython.display import display\n",
    "\n",
    "import getpass\n",
    "import ndex2\n",
    "\n",
    "import json\n",
    "import cdapsutil\n",
    "\n",
    "from gprofiler import GProfiler\n",
    "gp = GProfiler(\"MyToolName/0.1\")\n",
    "\n",
    "from scipy.stats import hypergeom\n",
    "from scipy.stats import norm\n",
    "\n",
    "# latex rendering of text in graphs\n",
    "import matplotlib as mpl\n",
    "mpl.rc('text', usetex = False)\n",
    "mpl.rc('font', family = 'serif')\n",
    "\n",
    "from matplotlib import rcParams\n",
    "rcParams['font.family'] = 'sans-serif'\n",
    "rcParams['font.sans-serif'] = ['Arial']\n",
    "\n",
    "sns.set(font_scale=1.4)\n",
    "\n",
    "sns.set_style('white')\n",
    "\n",
    "sns.set_style(\"ticks\", {\"xtick.major.size\": 15, \"ytick.major.size\": 15})\n",
    "plt.rcParams['svg.fonttype'] = 'none'\n",
    "\n",
    "from datetime import datetime\n",
    "import sys\n",
    "%matplotlib inline"
   ]
  },
  {
   "cell_type": "code",
   "execution_count": 2,
   "metadata": {
    "ExecuteTime": {
     "end_time": "2022-06-24T21:21:41.754661Z",
     "start_time": "2022-06-24T21:21:41.080114Z"
    }
   },
   "outputs": [],
   "source": [
    "# verify DDOT was installed\n",
    "import ddot\n",
    "\n",
    "from netcoloc import netprop_zscore, netprop, network_colocalization, validation\n"
   ]
  },
  {
   "cell_type": "markdown",
   "metadata": {},
   "source": [
    "## 2. Select two gene sets of interest. Load gene sets from text files into python.\n",
    "\n",
    "\n",
    "Identify two gene sets of interest. Gene sets should come from experimental data (not manual curation) to avoid bias. \n",
    "\n",
    "**Usage Note**: gene sets should be < 500 genes (propagation algorithm breaks down if seeded with larger sets). If your gene set is larger, only use the top 500 as seeds to the network propagation.\n",
    "\n"
   ]
  },
  {
   "cell_type": "code",
   "execution_count": 3,
   "metadata": {
    "ExecuteTime": {
     "end_time": "2022-06-24T21:21:41.757847Z",
     "start_time": "2022-06-24T21:21:41.755706Z"
    }
   },
   "outputs": [],
   "source": [
    "# set names of geneset 1 and geneset 2\n",
    "# ------ customize this section based on your gene sets and how they should be labeled -------\n",
    "d1_name='ASD'\n",
    "d2_name='CHD'"
   ]
  },
  {
   "cell_type": "code",
   "execution_count": 4,
   "metadata": {
    "ExecuteTime": {
     "end_time": "2022-06-24T21:21:41.828901Z",
     "start_time": "2022-06-24T21:21:41.759608Z"
    }
   },
   "outputs": [
    {
     "name": "stdout",
     "output_type": "stream",
     "text": [
      "Number of ASD genes: 102\n",
      "First 5 genes: ['CHD8', 'SCN2A', 'SYNGAP1', 'ADNP', 'FOXP1']\n"
     ]
    }
   ],
   "source": [
    "# ------ customize this section based your input genesets -------\n",
    "\n",
    "# load rare variants Satterstrom et al 2020; PMID: 31981491\n",
    "D1_df = pd.read_csv('data/Satterstrom--Top-102-ASD-genes--May2019.csv')\n",
    "D1_df.index = D1_df['gene']\n",
    "print('Number of '+d1_name+' genes:', len(D1_df))\n",
    "D1_genes = D1_df.index.tolist() # define rare variant genes to seed network propagation\n",
    "print(\"First 5 genes:\", D1_genes[0:5])"
   ]
  },
  {
   "cell_type": "code",
   "execution_count": 5,
   "metadata": {
    "ExecuteTime": {
     "end_time": "2022-06-24T21:21:41.845400Z",
     "start_time": "2022-06-24T21:21:41.829909Z"
    }
   },
   "outputs": [
    {
     "name": "stdout",
     "output_type": "stream",
     "text": [
      "Number of CHD genes: 66\n",
      "First 5 genes: ['KMT2D', 'CHD7', 'PTPN11', 'NSD1', 'NOTCH1']\n"
     ]
    }
   ],
   "source": [
    "# ------ customize this section based your input genesets -------\n",
    "\n",
    "# load D2 rare variant genes from Jin et al 2017; PMID: 28991257\n",
    "D2_df = pd.read_csv('data/CHD_HC.tsv',sep='\\t')\n",
    "D2_genes = D2_df['0'].tolist()\n",
    "print('Number of '+d2_name+' genes:',len(D2_genes))\n",
    "print('First 5 genes:', D2_genes[0:5])"
   ]
  },
  {
   "cell_type": "code",
   "execution_count": 6,
   "metadata": {
    "ExecuteTime": {
     "end_time": "2022-06-24T21:21:41.866928Z",
     "start_time": "2022-06-24T21:21:41.846506Z"
    }
   },
   "outputs": [
    {
     "name": "stdout",
     "output_type": "stream",
     "text": [
      "Number of ASD and CHD genes overlapping: 6\n"
     ]
    }
   ],
   "source": [
    "# Output the overlap between the two gene sets\n",
    "print('Number of '+d1_name+' and '+d2_name+' genes overlapping:', len(np.intersect1d(D1_genes,D2_genes)))\n",
    "\n",
    "# Create a dictionary for each geneset\n",
    "seed_dict = {d1_name:D1_genes,d2_name:D2_genes}\n"
   ]
  },
  {
   "cell_type": "markdown",
   "metadata": {},
   "source": [
    "## 3. Select gene interaction network to use for the analysis.\n",
    "\n",
    "Identify network UUID on NDEx (ndexbio.org) and use this to import to this Jupyter notebook. We recommend using PCNet as a starting point, but a user may want to switch to “STRING high confidence” if using a machine with low memory (< 8GB RAM).\n"
   ]
  },
  {
   "cell_type": "code",
   "execution_count": 7,
   "metadata": {
    "ExecuteTime": {
     "end_time": "2022-06-24T21:21:57.611362Z",
     "start_time": "2022-06-24T21:21:41.868056Z"
    }
   },
   "outputs": [
    {
     "name": "stdout",
     "output_type": "stream",
     "text": [
      "Number of nodes: 18820\n",
      "\n",
      "Number of edges: 2693109\n"
     ]
    }
   ],
   "source": [
    "interactome_uuid='4de852d9-9908-11e9-bcaf-0ac135e8bacf' # for PCNet\n",
    "# interactome_uuid='275bd84e-3d18-11e8-a935-0ac135e8bacf' # for STRING high confidence\n",
    "ndex_server='public.ndexbio.org'\n",
    "ndex_user=None\n",
    "ndex_password=None\n",
    "G_int = ndex2.create_nice_cx_from_server(\n",
    "            ndex_server, \n",
    "            username=ndex_user, \n",
    "            password=ndex_password, \n",
    "            uuid=interactome_uuid\n",
    "        ).to_networkx()\n",
    "nodes = list(G_int.nodes)\n",
    "\n",
    "# remove self edges from network\n",
    "G_int.remove_edges_from(nx.selfloop_edges(G_int))\n",
    "\n",
    "# print out the numbers of nodes and edges in the interatome for diagnostic purposes:\n",
    "print('Number of nodes:', len(G_int.nodes))\n",
    "print('\\nNumber of edges:', len(G_int.edges))"
   ]
  },
  {
   "cell_type": "code",
   "execution_count": 8,
   "metadata": {
    "ExecuteTime": {
     "end_time": "2022-06-24T21:21:57.616677Z",
     "start_time": "2022-06-24T21:21:57.612959Z"
    }
   },
   "outputs": [],
   "source": [
    "int_nodes = list(G_int.nodes)"
   ]
  },
  {
   "cell_type": "markdown",
   "metadata": {},
   "source": [
    "# _Identify network colocalized gene network_\n",
    "\n",
    "## 4. Precalculate matrices needed for propagation. This step should take a few minutes (more for larger/denser networks) \n",
    "\n",
    "A benchmarking analysis demonstrates that the runtime required scales with the number of edges (w’) and the number of nodes (w’’). NetColoc includes functionality for saving and loading these matrices, by setting the XXX parameter, which can be useful if running multiple analyses. The diffusion parameter, which controls the rate of propagation through the network, may be set in this step. In practice, we have found that results are not dependent on the choice of this parameter, and recommend using the default value of 0.5.\n",
    "\n",
    "Background on network propagation: https://www.nature.com/articles/nrg.2017.38.pdf?origin=ppub\n"
   ]
  },
  {
   "cell_type": "code",
   "execution_count": null,
   "metadata": {
    "ExecuteTime": {
     "end_time": "2022-06-24T21:25:22.674597Z",
     "start_time": "2022-06-24T21:21:57.617751Z"
    }
   },
   "outputs": [
    {
     "name": "stdout",
     "output_type": "stream",
     "text": [
      "\n",
      "calculating w_prime\n",
      "\n",
      "calculating w_double_prime\n"
     ]
    }
   ],
   "source": [
    "# pre-calculate matrices used for network propagation. this step takes a few minutes, more for denser interactomes\n",
    "print('\\ncalculating w_prime')\n",
    "w_prime = netprop.get_normalized_adjacency_matrix(G_int, conserve_heat=True)\n",
    "\n",
    "print('\\ncalculating w_double_prime')\n",
    "w_double_prime = netprop.get_individual_heats_matrix(w_prime, .5)\n",
    "\n",
    "# w_double_prime can be saved to the file netcoloc_w_double_prime.npy\n",
    "# in current working directory with the following call:\n",
    "#\n",
    "# np.save('netcoloc_w_double_prime.npy', w_double_prime)\n",
    "\n",
    "# and reloaded later with:\n",
    "# w_double_prime = np.load('netcoloc_w_double_prime.npy')\n",
    "#\n",
    "# NOTE: Saving w_double_prime results in a several gigabyte file and\n",
    "#       takes a minute or more to save and load\n"
   ]
  },
  {
   "cell_type": "markdown",
   "metadata": {},
   "source": [
    "## 5. Subset seed genes to those found in the selected network. \n",
    "\n",
    "Only genes contained in the interaction network will be retained for downstream analysis. \n"
   ]
  },
  {
   "cell_type": "code",
   "execution_count": null,
   "metadata": {
    "ExecuteTime": {
     "end_time": "2022-06-24T21:25:22.699275Z",
     "start_time": "2022-06-24T21:25:22.678138Z"
    }
   },
   "outputs": [],
   "source": [
    "# subset seed genes to those found in interactome\n",
    "print(\"Number of D1 genes:\", len(D1_genes))\n",
    "D1_genes = list(np.intersect1d(D1_genes,int_nodes))\n",
    "print(\"Number of D1 genes in interactome:\", len(D1_genes))\n",
    "\n",
    "print(\"Number of D2 genes:\", len(D2_genes))\n",
    "D2_genes = list(np.intersect1d(D2_genes,int_nodes))\n",
    "print(\"Number of D2 genes in interactome:\", len(D2_genes))\n"
   ]
  },
  {
   "cell_type": "markdown",
   "metadata": {},
   "source": [
    "## 6. Compute network proximity scores from both seed gene sets independently.\n",
    "\n",
    "The network proximity scores include a correction for the degree distribution of the input gene sets. The runtime required for computing the network proximity scores increases linearly with the number of nodes in the underlying interaction network and with the size of the input gene list"
   ]
  },
  {
   "cell_type": "code",
   "execution_count": null,
   "metadata": {
    "ExecuteTime": {
     "end_time": "2022-06-24T21:25:55.101716Z",
     "start_time": "2022-06-24T21:25:22.700315Z"
    }
   },
   "outputs": [],
   "source": [
    "# D1 network propagation\n",
    "print('\\nCalculating D1 z-scores: ')\n",
    "z_D1, Fnew_D1, Fnew_rand_D1 = netprop_zscore.calculate_heat_zscores(w_double_prime, int_nodes, \n",
    "                                                                    dict(G_int.degree), \n",
    "                                                                    D1_genes, num_reps=1000,\n",
    "                                                                    minimum_bin_size=100)\n",
    "\n",
    "z_D1 = pd.DataFrame({'z':z_D1})\n",
    "\n",
    "z_D1.sort_values('z',ascending=False).head()"
   ]
  },
  {
   "cell_type": "code",
   "execution_count": null,
   "metadata": {
    "ExecuteTime": {
     "end_time": "2022-06-24T21:26:19.205678Z",
     "start_time": "2022-06-24T21:25:55.102988Z"
    }
   },
   "outputs": [],
   "source": [
    "# D2 network propagation\n",
    "print('\\nCalculating D2 z-scores: ')\n",
    "z_D2, Fnew_D2, Fnew_rand_D2 = netprop_zscore.calculate_heat_zscores(w_double_prime, int_nodes, \n",
    "                                                                    dict(G_int.degree), \n",
    "                                                                    D2_genes, num_reps=1000,\n",
    "                                                                    minimum_bin_size=100)\n",
    "\n",
    "z_D2 = pd.DataFrame({'z':z_D2})\n",
    "z_D2.sort_values('z',ascending=False).head()"
   ]
  },
  {
   "cell_type": "markdown",
   "metadata": {},
   "source": [
    "## 7. Build NetColoc subnetwork and evaluate for significant network colocalization. \n",
    "\n",
    "To build the NetColoc subnetwork we take the product of the two proximity vectors as follows:\n",
    "\n",
    "$z_{coloc}=z_1 \\times z_2$  \n",
    "\n",
    "We then select genes for which $z_{coloc}$ is greater than a threshold ($z_{coloc}>3$ here, but can be set by the user), and the network proximity scores were individually larger than a nominal threshold ($z_1>1.5$, and $z_2>1.5$ here, but can be set by the user). The subnetwork comprising the genes and interactions meeting these criteria make up the network colocalization subnetwork. \n",
    "\n",
    "The authors have found that the default threshold values work well in practice, to find the set of genes which is proximal to both seed gene sets. Tuning them higher will lead to fewer false positives, but more false negatives. Similarly, tuning them lower will lead to more false positives, but fewer false negatives. Either may be warranted given the specifics of an experiment. \n",
    "\n",
    "The researcher may conduct a sensitivity analysis of these thresholds to select to find a balance between higher NetColoc enrichment score, but smaller network, and lower NetColoc enrichment score, but larger network. The function ‘network_colocalization.calculate_network_enrichment’ is provided to enable such a sensitivity analysis. In this function, the network colocalization score is computed for the gene set pair, based on the observed network overlap and expected network overlap, over a range of z-score thresholds. \n",
    "\n",
    "If gene sets are significantly colocalized, proceed with analysis. Gene sets which are not significantly colocalized in the network have no evidence for shared underlying pathways, and thus proceeding with analysis of the network intersection in this case is not likely to return meaningful results.\n",
    "\n"
   ]
  },
  {
   "cell_type": "code",
   "execution_count": null,
   "metadata": {
    "ExecuteTime": {
     "end_time": "2022-06-24T21:26:29.898524Z",
     "start_time": "2022-06-24T21:26:19.207122Z"
    },
    "scrolled": true
   },
   "outputs": [],
   "source": [
    "zlist = [2,3,4,5,9,12]\n",
    "z12list = [1,1.5,2]\n",
    "netcoloc_enrichment_df = network_colocalization.calculate_network_enrichment(z_D1,z_D2,\n",
    "                                                                             zthresh_list = zlist,\n",
    "                                                                             z12thresh_list=z12list,\n",
    "                                                                             verbose=True)\n",
    "netcoloc_enrichment_df.head()"
   ]
  },
  {
   "cell_type": "markdown",
   "metadata": {},
   "source": [
    "### Select z thresholds, and plot the sizes of the observed and expected NetColoc subnetworks."
   ]
  },
  {
   "cell_type": "code",
   "execution_count": null,
   "metadata": {
    "ExecuteTime": {
     "end_time": "2022-06-24T21:26:31.862096Z",
     "start_time": "2022-06-24T21:26:29.899725Z"
    }
   },
   "outputs": [],
   "source": [
    "plt.figure(figsize=(5,5))\n",
    "sns.lineplot(x='z_comb',y='obs_exp',data=netcoloc_enrichment_df,hue='z_12',style='z_12',\n",
    "            markers=['o','o','o'],dashes=False,palette='viridis')\n",
    "ylim_max=plt.gca().get_ylim()[1]\n",
    "plt.ylim([1,ylim_max])\n",
    "plt.plot([3,3],[1,ylim_max],'k--',alpha=.5)\n",
    "\n",
    "plt.xlabel('z threshold')\n",
    "plt.ylabel('observed/expected \\nnetwork intersection size')\n",
    "plt.legend(title=\"$z_{1,2}$\")\n",
    "\n",
    "plt.figure(figsize=(5,5))\n",
    "sns.lineplot(x='z_comb',y='observed_overlap',data=netcoloc_enrichment_df,hue='z_12',style='z_12',\n",
    "            markers=['o','o','o'],dashes=False,palette='viridis')\n",
    "\n",
    "ylim_max=plt.gca().get_ylim()[1]\n",
    "plt.ylim([0,ylim_max])\n",
    "plt.plot([3,3],[0,ylim_max],'k--',alpha=.5)\n",
    "\n",
    "plt.xlabel('z threshold')\n",
    "plt.ylabel('number of genes in \\nnetwork intersection')\n",
    "plt.legend(title=\"$z_{1,2}$\")"
   ]
  },
  {
   "cell_type": "code",
   "execution_count": null,
   "metadata": {
    "ExecuteTime": {
     "end_time": "2022-06-24T21:26:32.041773Z",
     "start_time": "2022-06-24T21:26:31.863678Z"
    }
   },
   "outputs": [],
   "source": [
    "# ----------- select thresholds for NetColoc -----------------\n",
    "zthresh=3 # default = 3\n",
    "z12_thresh=1.5 # default = 1.5\n",
    "# ------------------------------------------------------------\n",
    "\n",
    "focal_netcoloc_enrichment = netcoloc_enrichment_df[(netcoloc_enrichment_df['z_comb']==zthresh) & \\\n",
    "                                                   (netcoloc_enrichment_df['z_12']==z12_thresh)].iloc[0]\n",
    "\n",
    "# plot the observed and expected overlaps\n",
    "plt.figure(figsize=(2,5))\n",
    "plt.bar([0,1],[focal_netcoloc_enrichment['expected_overlap_mean'],\n",
    "               focal_netcoloc_enrichment['observed_overlap']],color=['gray','black'],width=1)\n",
    "plt.errorbar([0],[focal_netcoloc_enrichment['expected_overlap_mean']],\n",
    "             [2*focal_netcoloc_enrichment['expected_overlap_std']],color='k',capsize=4)\n",
    "plt.ylabel('# NetColoc genes')\n",
    "plt.xticks([0,1],['expected','observed'],rotation='vertical')\n",
    "plt.xlim([-1,2])"
   ]
  },
  {
   "cell_type": "markdown",
   "metadata": {},
   "source": [
    "### Build network colocalization subnetwork based on selected thresholds"
   ]
  },
  {
   "cell_type": "code",
   "execution_count": null,
   "metadata": {
    "ExecuteTime": {
     "end_time": "2022-06-24T21:26:35.074472Z",
     "start_time": "2022-06-24T21:26:32.042852Z"
    }
   },
   "outputs": [],
   "source": [
    "# select the genes in the network intersection, make a subgraph\n",
    "\n",
    "G_overlap = network_colocalization.calculate_network_overlap_subgraph(G_int,z_D1['z'],z_D2['z'],z_score_threshold=zthresh,\n",
    "                                                                     z1_threshold=z12_thresh,z2_threshold=z12_thresh)\n",
    "print(\"Nodes in overlap subgraph:\", len(G_overlap.nodes()))\n",
    "print(\"Edges in overlap subgraph:\", len(G_overlap.edges()))"
   ]
  },
  {
   "cell_type": "markdown",
   "metadata": {},
   "source": [
    "## 8. Transform NetColoc subnetwork edges to cosine similarities (OPTIONAL)\n",
    "\n",
    "Transform NetColoc subnetwork edges to cosine similarities, with the function ‘network_colocalization.transform_edges’. The cosine similarity score between two genes represents the extent to which those genes have similar interactors. In practice, the cosine similarity transformed score helps to visually reveal the underlying clustering structure present in a network. \n",
    "\n"
   ]
  },
  {
   "cell_type": "code",
   "execution_count": null,
   "metadata": {
    "ExecuteTime": {
     "end_time": "2022-06-24T21:27:46.477275Z",
     "start_time": "2022-06-24T21:26:35.075775Z"
    }
   },
   "outputs": [],
   "source": [
    "G_cosSim=network_colocalization.transform_edges(G_overlap,method='cosine_sim',edge_weight_threshold=0.95)"
   ]
  },
  {
   "cell_type": "markdown",
   "metadata": {},
   "source": [
    "# _Compute network colocalized systems map_\n",
    "\n",
    "## 9. Convert network colocalization subnetwork to form used in community detection module"
   ]
  },
  {
   "cell_type": "code",
   "execution_count": null,
   "metadata": {
    "ExecuteTime": {
     "end_time": "2022-06-24T21:27:46.499084Z",
     "start_time": "2022-06-24T21:27:46.478749Z"
    }
   },
   "outputs": [],
   "source": [
    "# compile dataframe of metadata for overlapping nodes\n",
    "node_df = pd.DataFrame(index=list(G_overlap.nodes))\n",
    "node_df = node_df.assign(d1_seeds=0, d2_seeds=0, d1_name=d1_name, d2_name=d2_name)\n",
    "node_df.loc[list(np.intersect1d(seed_dict[d1_name],node_df.index.tolist())), 'd1_seeds']=1\n",
    "node_df.loc[list(np.intersect1d(seed_dict[d2_name],node_df.index.tolist())), 'd2_seeds']=1\n",
    "node_df['z_d1']=z_D1.loc[list(G_overlap.nodes)]['z']\n",
    "node_df['z_d2']=z_D2.loc[list(G_overlap.nodes)]['z']\n",
    "node_df['z_both']=node_df['z_d1']*node_df['z_d2']\n",
    "node_df['sum_seeds']=node_df['d1_seeds']+node_df['d2_seeds']\n",
    "\n",
    "node_df = node_df.sort_values('z_both',ascending=False)\n",
    "node_df.head(15)"
   ]
  },
  {
   "cell_type": "markdown",
   "metadata": {},
   "source": [
    "## 10. Run community detection on NetColoc subnetwork (recommend HiDef).\n",
    "\n",
    "Documentation for CDAPS utils to build multiscale systems map in notebook\n",
    "\n",
    "https://cdapsutil.readthedocs.io/en/latest/quicktutorial.html#example  \n",
    "https://cdapsutil.readthedocs.io/en/latest/cdapsutil.html#community-detection  "
   ]
  },
  {
   "cell_type": "code",
   "execution_count": null,
   "metadata": {
    "ExecuteTime": {
     "end_time": "2022-06-24T21:27:53.356899Z",
     "start_time": "2022-06-24T21:27:46.500105Z"
    }
   },
   "outputs": [],
   "source": [
    "print(\"Nodes in overlap subgraph:\", len(G_overlap.nodes()))\n",
    "print(\"Edges in overlap subgraph:\", len(G_overlap.edges()))\n",
    "# Create cx format of overlap subgraph\n",
    "G_overlap_cx = ndex2.create_nice_cx_from_networkx(G_overlap)\n",
    "G_overlap_cx.set_name(d1_name+'_'+d2_name+'_NetColoc_subgraph') \n",
    "for node_id, node in G_overlap_cx.get_nodes():\n",
    "    data = node_df.loc[node['n']]\n",
    "    for row, value in data.items():\n",
    "        if row == 'd1_seeds' or row == 'd2_seeds' or row=='sum_seeds':\n",
    "            data_type = 'double'\n",
    "        elif row=='d1_name' or row=='d2_name':\n",
    "            data_type='string'\n",
    "        else:\n",
    "            data_type = 'double'\n",
    "        G_overlap_cx.set_node_attribute(node_id, row, value, type=data_type)\n",
    "\n",
    "cd = cdapsutil.CommunityDetection()\n",
    "\n",
    "# Run HiDeF on CDAPS REST service\n",
    "G_hier = cd.run_community_detection(G_overlap_cx, algorithm='hidefv1.1beta',arguments={'--maxres':'20'})"
   ]
  },
  {
   "cell_type": "code",
   "execution_count": null,
   "metadata": {
    "ExecuteTime": {
     "end_time": "2022-06-24T21:27:53.362414Z",
     "start_time": "2022-06-24T21:27:53.358041Z"
    }
   },
   "outputs": [],
   "source": [
    "# Print information about hierarchy\n",
    "print('Hierarchy name: ' + str(G_hier.get_name()))\n",
    "print('# nodes: ' + str(len(G_hier.get_nodes())))\n",
    "print('# edges: ' + str(len(G_hier.get_edges())))"
   ]
  },
  {
   "cell_type": "code",
   "execution_count": null,
   "metadata": {
    "ExecuteTime": {
     "end_time": "2022-06-24T21:27:53.374104Z",
     "start_time": "2022-06-24T21:27:53.363427Z"
    }
   },
   "outputs": [],
   "source": [
    "# sr = cdapsutil.ServiceRunner()\n",
    "# sr.get_algorithms() # this will print out available options for each algorithm"
   ]
  },
  {
   "cell_type": "markdown",
   "metadata": {},
   "source": [
    "## 11. Convert the NetColoc hierarchy to networkx format, and write out features of the hierarchy to a pandas dataframe, for easier access in Python.\n"
   ]
  },
  {
   "cell_type": "code",
   "execution_count": null,
   "metadata": {
    "ExecuteTime": {
     "end_time": "2022-06-24T21:27:53.388170Z",
     "start_time": "2022-06-24T21:27:53.375241Z"
    }
   },
   "outputs": [],
   "source": [
    "G_hier = G_hier.to_networkx(mode='default')\n",
    "G_hier\n",
    "\n",
    "nodes = G_hier.nodes()\n",
    "\n",
    "# print the number of nodes and edges in the hierarchy for diagnostic purposes\n",
    "print('Number of nodes:', len(G_hier.nodes()))\n",
    "\n",
    "print('\\nNumber of edges:', len(G_hier.edges()))\n"
   ]
  },
  {
   "cell_type": "code",
   "execution_count": null,
   "metadata": {
    "ExecuteTime": {
     "end_time": "2022-06-24T21:27:53.409753Z",
     "start_time": "2022-06-24T21:27:53.389278Z"
    }
   },
   "outputs": [],
   "source": [
    "# add node attributes to dataframe for easier access\n",
    "hier_df = pd.DataFrame.from_dict(dict(G_hier.nodes(data=True)), orient='index')\n",
    "hier_df['system_ID']=hier_df.index.tolist()\n",
    "# some columns are not the right type\n",
    "hier_df['CD_MemberList_Size']=[int(x) for x in hier_df['CD_MemberList_Size'].tolist()]\n",
    "hier_df['HiDeF_persistence']=[int(x) for x in hier_df['HiDeF_persistence'].tolist()]\n",
    "hier_df.head()"
   ]
  },
  {
   "cell_type": "markdown",
   "metadata": {},
   "source": [
    "## 12. Remove systems with no seed genes (OPTIONAL)"
   ]
  },
  {
   "cell_type": "code",
   "execution_count": null,
   "metadata": {
    "ExecuteTime": {
     "end_time": "2022-06-24T21:27:53.450988Z",
     "start_time": "2022-06-24T21:27:53.410904Z"
    }
   },
   "outputs": [],
   "source": [
    "hier_df.index=hier_df['name']\n",
    "hier_df.head()\n",
    "\n",
    "num_d1_seeds, num_d2_seeds, num_both_seeds = [],[],[]\n",
    "frac_d1_seeds, frac_d2_seeds, frac_both_seeds=[],[],[]\n",
    "\n",
    "systems_keep = []\n",
    "for c in hier_df.index.tolist():\n",
    "    system_genes = hier_df['CD_MemberList'].loc[c].split(' ')\n",
    "    d1_temp = list(np.intersect1d(system_genes,seed_dict[d1_name]))\n",
    "    d2_temp = list(np.intersect1d(system_genes,seed_dict[d2_name]))\n",
    "    num_d1_temp = len(d1_temp)\n",
    "    num_d2_temp = len(d2_temp)\n",
    "    if (num_d1_temp+num_d2_temp)>0: # keep the system if it has at least 1 seed gene\n",
    "        systems_keep.append(c)\n",
    "        num_both_temp = len(np.intersect1d(d1_temp,d2_temp))\n",
    "        num_both_seeds.append(num_both_temp)\n",
    "        num_d1_seeds.append(num_d1_temp-num_both_temp)\n",
    "        num_d2_seeds.append(num_d2_temp-num_both_temp)\n",
    "        \n",
    "        frac_both_seeds.append(num_both_temp/float(len(system_genes)))\n",
    "        frac_d1_seeds.append((num_d1_temp-num_both_temp)/float(len(system_genes)))\n",
    "        frac_d2_seeds.append((num_d2_temp-num_both_temp)/float(len(system_genes)))\n",
    "\n",
    "        \n",
    "frac_no_seeds = np.subtract(1.0,np.array([frac_d1_seeds,frac_d2_seeds,frac_both_seeds]).sum(axis=0))\n",
    "\n",
    "hier_df = hier_df.loc[systems_keep]\n",
    "hier_df['num_d1_seeds']=num_d1_seeds\n",
    "hier_df['num_d2_seeds']=num_d2_seeds\n",
    "hier_df['num_both_seeds']=num_d2_seeds\n",
    "hier_df['frac_d1_seeds']=frac_d1_seeds\n",
    "hier_df['frac_d2_seeds']=frac_d2_seeds\n",
    "hier_df['frac_both_seeds']=frac_both_seeds\n",
    "hier_df['frac_no_seeds']=frac_no_seeds\n",
    "print(\"Number of nodes with seed genes:\", len(hier_df))\n",
    "\n",
    "hier_df.head()\n",
    "    "
   ]
  },
  {
   "cell_type": "code",
   "execution_count": null,
   "metadata": {
    "ExecuteTime": {
     "end_time": "2022-06-24T21:27:53.456748Z",
     "start_time": "2022-06-24T21:27:53.451983Z"
    }
   },
   "outputs": [],
   "source": [
    "# prune G_hier--> only keep systems with at least one seed gene\n",
    "\n",
    "nkeep=[]\n",
    "for n in list(G_hier.nodes()):\n",
    "    if G_hier.nodes(data=True)[n]['name'] in systems_keep:\n",
    "        nkeep.append(n)\n",
    "        \n",
    "\n",
    "G_hier = nx.subgraph(G_hier, nkeep)\n",
    "print(\"Number of nodes with seed genes:\", len(G_hier.nodes()))\n",
    "print(\"Number of edges remaining:\", len(G_hier.edges()))"
   ]
  },
  {
   "cell_type": "markdown",
   "metadata": {},
   "source": [
    "## 13. Sneak peek of hierarchy visualization (OPTIONAL)"
   ]
  },
  {
   "cell_type": "code",
   "execution_count": null,
   "metadata": {
    "ExecuteTime": {
     "end_time": "2022-06-24T21:27:53.850097Z",
     "start_time": "2022-06-24T21:27:53.457862Z"
    }
   },
   "outputs": [],
   "source": [
    "network_colocalization.view_G_hier(G_hier)"
   ]
  },
  {
   "cell_type": "markdown",
   "metadata": {},
   "source": [
    "## 14. Annotate systems with gprofiler. \n",
    "\n",
    "Annotate moderately sized systems (between 50 to 1000 genes per system) if they are significantly enriched for a Gene Ontology biological process. Also require that the GO term is enriched with $p<10^{-5}$ and shares at least 3 genes with the system to annotate, to increase the stringency of the annotation. Label the system using the GO term that meets these criteria, and has the highest sum of precision and recall. Systems which have no GO terms meeting these criteria are labeled with their unique system ID.\n"
   ]
  },
  {
   "cell_type": "code",
   "execution_count": null,
   "metadata": {
    "ExecuteTime": {
     "end_time": "2022-06-24T21:28:31.074583Z",
     "start_time": "2022-06-24T21:27:53.851319Z"
    }
   },
   "outputs": [],
   "source": [
    "# gprofiler annotation of clusters\n",
    "\n",
    "system_name_list = []\n",
    "for p in hier_df.index.tolist():\n",
    "    focal_genes=hier_df['CD_MemberList'].loc[p].split(' ')\n",
    "    print(p)\n",
    "    print(len(focal_genes))\n",
    "    if len(focal_genes)>2:\n",
    "        gp_temp = pd.DataFrame(gp.profile(focal_genes,significance_threshold_method='fdr',\n",
    "                                               sources=['REAC']))\n",
    "        if len(gp_temp)>0: # make sure data is not empty\n",
    "            \n",
    "            # make sure terms are specific, and overlap with at least 3 genes\n",
    "            gp_temp = gp_temp[(gp_temp['term_size']<1000)&(gp_temp['term_size']>50)]\n",
    "            gp_temp = gp_temp[gp_temp['intersection_size']>=3]\n",
    "            \n",
    "            gp_temp = gp_temp[gp_temp['p_value']<1E-5] # set a stringent pvalue threshold\n",
    "            \n",
    "            gp_temp = gp_temp.sort_values('recall',ascending=False)\n",
    "            \n",
    "            if len(gp_temp)>1:\n",
    "                system_name_list.append(gp_temp.head(1)['name'].tolist()[0])\n",
    "            else:\n",
    "                system_name_list.append(p)\n",
    "        else:\n",
    "            system_name_list.append(p)\n",
    "            \n",
    "\n",
    "        display(gp_temp.head())\n",
    "        \n",
    "    else:\n",
    "        system_name_list.append(p)"
   ]
  },
  {
   "cell_type": "markdown",
   "metadata": {},
   "source": [
    "# _Validate identified genes and systems_\n",
    "\n",
    "## 15. Load and parse mouse variant database\n",
    "\n",
    "Requires DDOT for ontology parsing https://github.com/michaelkyu/ddot/blob/master/examples/Tutorial.ipynb\n",
    "\n",
    "Parse the ontology, data from http://www.informatics.jax.org/vocab/mp_ontology\n"
   ]
  },
  {
   "cell_type": "code",
   "execution_count": null,
   "metadata": {
    "ExecuteTime": {
     "end_time": "2022-06-24T21:29:19.110315Z",
     "start_time": "2022-06-24T21:28:31.080464Z"
    }
   },
   "outputs": [],
   "source": [
    "mgi_df = validation.load_MGI_mouseKO_data()\n",
    "mgi_df.head()"
   ]
  },
  {
   "cell_type": "code",
   "execution_count": null,
   "metadata": {
    "ExecuteTime": {
     "end_time": "2022-06-24T21:29:20.721839Z",
     "start_time": "2022-06-24T21:29:19.111386Z"
    }
   },
   "outputs": [],
   "source": [
    "MPO = validation.load_MPO()\n",
    "MPO"
   ]
  },
  {
   "cell_type": "markdown",
   "metadata": {},
   "source": [
    "## 16. Identify phenotype(s) of interest. \n",
    "\n",
    "Recommend including a negative control, a phenotype that is not expected to overlap with the two phenotypes of interest.\n",
    "\n",
    "### Here we find MPO terms related to brain or heart\n",
    "\n",
    "Modify as needed for each specific project"
   ]
  },
  {
   "cell_type": "code",
   "execution_count": null,
   "metadata": {
    "ExecuteTime": {
     "end_time": "2022-06-24T21:29:20.726414Z",
     "start_time": "2022-06-24T21:29:20.723018Z"
    }
   },
   "outputs": [],
   "source": [
    "def get_MP_description(term_id, ontology=MPO):\n",
    "    return ontology.node_attr.loc[term_id, \"description\"]"
   ]
  },
  {
   "cell_type": "code",
   "execution_count": null,
   "metadata": {
    "ExecuteTime": {
     "end_time": "2022-06-24T21:29:21.532067Z",
     "start_time": "2022-06-24T21:29:20.727873Z"
    }
   },
   "outputs": [],
   "source": [
    "# find terms related to brain\n",
    "# ---- modify this part as needed for your project -----\n",
    "MP_focal_brain_list = []\n",
    "for t in MPO.node_attr.index.tolist():\n",
    "    descr_temp = MPO.node_attr.loc[t]['description']\n",
    "    if descr_temp.find('nervous')>-1:\n",
    "        MP_focal_brain_list.append(t)\n",
    "    elif descr_temp.find('neuron')>-1:\n",
    "        MP_focal_brain_list.append(t)\n",
    "    elif descr_temp.find('synapt')>-1:\n",
    "        MP_focal_brain_list.append(t)\n",
    "        \n",
    "print(\"Number of brain phenotypes\", len(MP_focal_brain_list))\n",
    "print(\"Example brain phenotypes:\")\n",
    "print(\"\\n\".join([mp+\" - \"+get_MP_description(mp) for mp in MP_focal_brain_list[0:10]]))\n"
   ]
  },
  {
   "cell_type": "code",
   "execution_count": null,
   "metadata": {
    "ExecuteTime": {
     "end_time": "2022-06-24T21:29:22.344309Z",
     "start_time": "2022-06-24T21:29:21.533103Z"
    }
   },
   "outputs": [],
   "source": [
    "# find terms related to heart\n",
    "MP_focal_heart_list = []\n",
    "for t in MPO.node_attr.index.tolist():\n",
    "    descr_temp = MPO.node_attr.loc[t]['description']\n",
    "    if descr_temp.find('cardi')>-1:\n",
    "        MP_focal_heart_list.append(t)\n",
    "    elif descr_temp.find('heart')>-1:\n",
    "        MP_focal_heart_list.append(t)\n",
    "        \n",
    "print(\"Number of heart phenotypes:\", len(MP_focal_heart_list))\n",
    "print(\"Example heart phenotypes:\")\n",
    "print(\"\\n\".join([mp+\" - \"+get_MP_description(mp) for mp in MP_focal_heart_list[0:10]]))"
   ]
  },
  {
   "cell_type": "markdown",
   "metadata": {},
   "source": [
    "## 17. Compute the enrichment of selected phenotype(s) in NetColoc subnetwork as a whole.\n",
    "\n",
    "By computing the enrichment in the entire NetColoc subnetwork, we identify the phenotypes with the strongest association with the entire set of genes identified to be related to both input sets."
   ]
  },
  {
   "cell_type": "code",
   "execution_count": null,
   "metadata": {
    "ExecuteTime": {
     "end_time": "2022-06-24T21:30:18.381323Z",
     "start_time": "2022-06-24T21:29:22.345431Z"
    },
    "scrolled": true
   },
   "outputs": [],
   "source": [
    "# add a negative control phenotype: abnormal innate immunity: MP:0002419\n",
    "# negative controls are tough here because we're dealing with development, which impacts almost everything.\n",
    "MP_focal_list = ['MP:0002419']+MP_focal_brain_list\n",
    "root_KO_brain_df=validation.MPO_enrichment_root(hier_df,MPO,mgi_df,MP_focal_list,G_int,verbose=True)"
   ]
  },
  {
   "cell_type": "code",
   "execution_count": null,
   "metadata": {
    "ExecuteTime": {
     "end_time": "2022-06-24T21:30:18.391599Z",
     "start_time": "2022-06-24T21:30:18.382481Z"
    }
   },
   "outputs": [],
   "source": [
    "root_KO_brain_df.head()"
   ]
  },
  {
   "cell_type": "code",
   "execution_count": null,
   "metadata": {
    "ExecuteTime": {
     "end_time": "2022-06-24T21:31:38.306996Z",
     "start_time": "2022-06-24T21:30:18.392550Z"
    },
    "scrolled": true
   },
   "outputs": [],
   "source": [
    "MP_focal_list = MP_focal_heart_list\n",
    "root_KO_heart_df=validation.MPO_enrichment_root(hier_df,MPO,mgi_df,MP_focal_list,G_int,verbose=True)"
   ]
  },
  {
   "cell_type": "code",
   "execution_count": null,
   "metadata": {
    "ExecuteTime": {
     "end_time": "2022-06-24T21:31:38.317332Z",
     "start_time": "2022-06-24T21:31:38.308200Z"
    }
   },
   "outputs": [],
   "source": [
    "root_KO_heart_df.head()"
   ]
  },
  {
   "cell_type": "code",
   "execution_count": null,
   "metadata": {
    "ExecuteTime": {
     "end_time": "2022-06-24T21:46:17.391341Z",
     "start_time": "2022-06-24T21:46:17.381335Z"
    }
   },
   "outputs": [],
   "source": [
    "# join brain and heart results together\n",
    "root_KO_brain_df['MPO_term_type']='brain'\n",
    "root_KO_heart_df['MPO_term_type']='heart'\n",
    "root_KO_df = pd.concat([root_KO_heart_df, root_KO_brain_df], axis=0, sort=False)\n",
    "root_KO_df.loc['MP:0002419','MPO_term_type'] = 'neg_ctrl'\n",
    "root_KO_df = root_KO_df.sort_values('OR_p')\n",
    "root_KO_df.head()"
   ]
  },
  {
   "cell_type": "code",
   "execution_count": null,
   "metadata": {
    "ExecuteTime": {
     "end_time": "2022-06-24T21:46:29.694026Z",
     "start_time": "2022-06-24T21:46:29.689194Z"
    }
   },
   "outputs": [],
   "source": [
    "root_KO_df['MPO_term_type'].value_counts()"
   ]
  },
  {
   "cell_type": "markdown",
   "metadata": {},
   "source": [
    "### Plot top performing brain and heart terms + negative control term"
   ]
  },
  {
   "cell_type": "code",
   "execution_count": null,
   "metadata": {
    "ExecuteTime": {
     "end_time": "2022-06-14T22:47:52.999640Z",
     "start_time": "2022-06-14T22:47:52.995453Z"
    }
   },
   "outputs": [],
   "source": [
    "# plot top performing brain and heart terms + negative control term (MP:0002419) (for terms which have at least 150 genes)\n",
    "\n",
    "heart_terms_plot = root_KO_heart_df[root_KO_heart_df['num_genes_in_term']>150]\n",
    "heart_terms_plot = heart_terms_plot.sort_values('OR_p',ascending=True).head(5).index.tolist() #+heart_terms_plot.sort_values('OR_p',ascending=True).tail(5).index.tolist()\n",
    "\n",
    "brain_terms_plot = root_KO_brain_df[root_KO_brain_df['num_genes_in_term']>150]\n",
    "brain_terms_plot = brain_terms_plot.sort_values('OR_p',ascending=True).head(5).index.tolist() #+brain_terms_plot.sort_values('OR_p',ascending=True).tail(5).index.tolist()\n",
    "\n",
    "neg_ctrl_terms_plot=['MP:0002419']\n",
    "\n",
    "terms_plot = brain_terms_plot+heart_terms_plot +neg_ctrl_terms_plot"
   ]
  },
  {
   "cell_type": "code",
   "execution_count": null,
   "metadata": {
    "ExecuteTime": {
     "end_time": "2022-06-14T22:55:00.432835Z",
     "start_time": "2022-06-14T22:54:59.449097Z"
    }
   },
   "outputs": [],
   "source": [
    "plt.figure(figsize=(3,6))\n",
    "\n",
    "plt.errorbar(root_KO_df.loc[terms_plot]['log_OR'],np.arange(len(terms_plot)),\n",
    "            xerr=[np.subtract(root_KO_df.loc[terms_plot]['log_OR'],root_KO_df.loc[terms_plot]['log_OR_CI_lower']),\n",
    "                   np.subtract(root_KO_df.loc[terms_plot]['log_OR_CI_upper'],root_KO_df.loc[terms_plot]['log_OR'])],color='k',fmt='o')\n",
    "\n",
    "color_temp = root_KO_df.loc[terms_plot]['MPO_term_type'].map({'brain':'blue','heart':'red','neg_ctrl':'black'})\n",
    "\n",
    "sns.scatterplot(x=root_KO_df.loc[terms_plot]['log_OR'],\n",
    "                y=np.arange(len(terms_plot)),size=root_KO_df.loc[terms_plot]['num_genes_in_term'],sizes=(200, 2000),\n",
    "                alpha=.5,\n",
    "               hue=color_temp.tolist(),palette={'blue':'blue','red':'red','black':'black'},legend=False)\n",
    "\n",
    "plt.yticks(np.arange(len(terms_plot)),root_KO_df.loc[terms_plot]['MP_description'])\n",
    "plt.xticks([0,1,2])\n",
    "plt.xlabel('log(OR) +- 95% CI')\n",
    "\n",
    "plt.plot([0,0],[-.8,len(terms_plot)-.5],'--',color='gray')\n",
    "plt.ylim([-0.8,len(terms_plot)-.5])\n",
    "\n",
    "plt.gca().invert_yaxis()\n",
    "# plt.savefig('ASD_CHD_brain_heart_MPO_root_enrichment_210813.png',dpi=300,bbox_inches='tight')"
   ]
  },
  {
   "cell_type": "markdown",
   "metadata": {},
   "source": [
    "## 18. Compute the enrichment of phenotype(s) in NetColoc subsystems.\n",
    "\n",
    "Some phenotypes may have stronger associations with NetColoc subsystems than with the root node. In this step we calculate the enrichment of selected phenotypes in each NetColoc subsystem.\n"
   ]
  },
  {
   "cell_type": "code",
   "execution_count": null,
   "metadata": {
    "ExecuteTime": {
     "end_time": "2022-06-14T22:49:27.671993Z",
     "start_time": "2022-06-14T22:49:04.578910Z"
    },
    "scrolled": true
   },
   "outputs": [],
   "source": [
    "MP_focal_top = root_KO_df.head(10).index.tolist() # record the top 10 overall\n",
    "MP_full_results_df = validation.MPO_enrichment_full(hier_df,MPO,mgi_df,MP_focal_top,G_int)\n",
    "MP_full_results_df.head()"
   ]
  },
  {
   "cell_type": "code",
   "execution_count": null,
   "metadata": {
    "ExecuteTime": {
     "end_time": "2022-06-14T22:50:15.905976Z",
     "start_time": "2022-06-14T22:50:15.903648Z"
    }
   },
   "outputs": [],
   "source": [
    "print(\"Top ten terms:\")\n",
    "print(\"\\n\".join([mp+\" - \"+get_MP_description(mp) for mp in MP_focal_top]))"
   ]
  },
  {
   "cell_type": "markdown",
   "metadata": {},
   "source": [
    "## 19. Annotate the NetColoc Systems Map with mouse knockout data, input genes, and enriched GO terms"
   ]
  },
  {
   "cell_type": "code",
   "execution_count": null,
   "metadata": {
    "ExecuteTime": {
     "end_time": "2022-06-14T22:50:56.830837Z",
     "start_time": "2022-06-14T22:50:56.814509Z"
    }
   },
   "outputs": [],
   "source": [
    "# add the best gprofiler annotation\n",
    "MP_full_results_df['gprofiler_name']=pd.Series(system_name_list,index=hier_df.index.tolist())\n",
    "# don't annotate the root node\n",
    "root_node = hier_df['CD_MemberList_Size'].sort_values(ascending=False).head(1).index.tolist()[0]\n",
    "MP_full_results_df.loc[root_node, 'gprofiler_name']=d1_name+'-'+d2_name+' systems map'\n",
    "\n",
    "# also add the frac_seeds/num_seeds data here\n",
    "MP_full_results_df=MP_full_results_df.join(hier_df[['num_d1_seeds','num_d2_seeds','frac_d1_seeds','frac_d2_seeds','frac_both_seeds','frac_no_seeds']],\n",
    "                                          how='left')\n",
    "\n",
    "MP_full_results_df.head()"
   ]
  },
  {
   "cell_type": "markdown",
   "metadata": {},
   "source": [
    "## 20. Export the NetColoc systems map to NDEx, with default style. \n",
    "\n",
    "Default style maps the fraction of seed genes from input set 1 (red) and input set 2 (blue) to node pie charts. The fraction of genes in each system that are in neither input set, but that are implicated by the network propagation are indicated in white."
   ]
  },
  {
   "cell_type": "code",
   "execution_count": null,
   "metadata": {
    "ExecuteTime": {
     "end_time": "2022-06-14T22:51:03.539863Z",
     "start_time": "2022-06-14T22:51:02.582840Z"
    }
   },
   "outputs": [],
   "source": [
    "# Convert G_hier to nice cx network\n",
    "node_id_to_node_name = nx.get_node_attributes(G_hier, 'name')\n",
    "for node_id in list(G_hier.nodes):\n",
    "    del G_hier.nodes[node_id]['name']\n",
    "\n",
    "G_hier_cx = ndex2.create_nice_cx_from_networkx(G_hier)\n",
    "\n",
    "for node_id, node in G_hier_cx.get_nodes():\n",
    "    node['n'] = node_id_to_node_name[node_id]\n",
    "\n",
    "G_hier_cx.set_name(d1_name+'_'+d2_name+'_systems_map') \n",
    "for node_id, node in G_hier_cx.get_nodes():\n",
    "    data = MP_full_results_df.loc[node['r']]\n",
    "    for row, value in data.items():\n",
    "        if (row.find('gene_ids')>-1) or (row=='gprofiler_name'):\n",
    "            data_type = \"string\"\n",
    "            value=str(value)\n",
    "        else:\n",
    "            data_type = \"double\"\n",
    "            value = str(value) # nice cx can only accept strings as values...\n",
    "            if value=='inf': # check if inf, set to -1 if so\n",
    "                value='-1'\n",
    "            \n",
    "        G_hier_cx.set_node_attribute(node_id, row, value, type=data_type)\n",
    "\n",
    "# Restore some hierarchy properties to their state before networkx conversion.\n",
    "for node_id, node in G_hier_cx.get_nodes():\n",
    "    for i in np.arange(len(G_hier_cx.nodeAttributes[node_id])):\n",
    "        dict_temp = G_hier_cx.nodeAttributes[node_id][i]\n",
    "        if dict_temp['n'] in ['CD_MemberList_Size','CD_MemberList_LogSize','HiDeF_persistence']:\n",
    "            G_hier_cx.set_node_attribute(node_id, dict_temp['n'], dict_temp['v'], type='double',overwrite=True)\n",
    "            \n",
    "# this is required so we can easily make subgraphs from systems\n",
    "G_hier_cx.set_network_attribute('__CD_OriginalNetwork',\n",
    "                                       values='0', type='long')\n",
    "            \n",
    "          \n",
    "# use apply_style_from_network-- this should overwrite the existing style\n",
    "netcoloc_template = ndex2.create_nice_cx_from_server('ndexbio.org',\n",
    "            uuid='f338dea0-117c-11ec-9e8e-0ac135e8bacf')\n",
    "G_hier_cx.apply_style_from_network(netcoloc_template)"
   ]
  },
  {
   "cell_type": "code",
   "execution_count": null,
   "metadata": {
    "ExecuteTime": {
     "end_time": "2022-06-14T22:51:25.145208Z",
     "start_time": "2022-06-14T22:51:16.029241Z"
    }
   },
   "outputs": [],
   "source": [
    "#Upload to NDEx. Enter your ndex username and password. \n",
    "# If you are new to ndex, make a new account on the website (ndexbio.org)\n",
    "G_hier_cx.set_name(d1_name+'_'+d2_name+'_systems_map') \n",
    "SERVER = input('NDEx server (probably ndexbio.org): ')\n",
    "USERNAME = input('NDEx user name: ')\n",
    "PASSWORD = getpass.getpass('NDEx password: ')\n",
    "network_uuid_hier = G_hier_cx.upload_to(SERVER, USERNAME, PASSWORD)"
   ]
  },
  {
   "cell_type": "markdown",
   "metadata": {},
   "source": [
    "## 21. Apply another template style to NetColoc systems map for mouse knockout view, and export to NDEx. \n",
    "\n",
    "Select the property to be mapped to system node colors (should be one of the mouse knockout phenotypes we identified above). In this style, the log odds ratio is mapped to the system node color. Systems which are not significantly enriched for the phenotype are white (p<0.05).\n"
   ]
  },
  {
   "cell_type": "code",
   "execution_count": null,
   "metadata": {
    "ExecuteTime": {
     "end_time": "2022-06-14T22:51:27.372741Z",
     "start_time": "2022-06-14T22:51:27.371098Z"
    }
   },
   "outputs": [],
   "source": [
    "# ------ modify this based on your project. Should be a system identified above -----\n",
    "# set the property we should map to system node colors\n",
    "mouse_KO_mapping_property = 'abnormal neuron morphology'"
   ]
  },
  {
   "cell_type": "code",
   "execution_count": null,
   "metadata": {
    "ExecuteTime": {
     "end_time": "2022-06-14T22:51:30.311081Z",
     "start_time": "2022-06-14T22:51:29.349989Z"
    }
   },
   "outputs": [],
   "source": [
    "# apply a template style \n",
    "G_hier_cx.set_name(d1_name+'_'+d2_name+'_systems_map_mouse_KO:'+mouse_KO_mapping_property) \n",
    "# use apply_style_from_network-- this should overwrite existing style\n",
    "netcoloc_template = ndex2.create_nice_cx_from_server('ndexbio.org',\n",
    "            uuid='4958993c-df46-11eb-b666-0ac135e8bacf')\n",
    "raw_cx_st = json.dumps(netcoloc_template.to_cx())\n",
    "\n",
    "# replace the default template values with mouse_KO_mapping_property\n",
    "updated_raw_cx = re.sub('COL=abnormal heart development:log_OR', 'COL='+mouse_KO_mapping_property+':log_OR', raw_cx_st)\n",
    "updated_raw_cx = re.sub('COL=abnormal heart development:-log', \n",
    "                        'COL='+mouse_KO_mapping_property+':-log', updated_raw_cx)\n",
    "updated_raw_cx=json.loads(updated_raw_cx)\n",
    "netcoloc_template_updated = ndex2.create_nice_cx_from_raw_cx(updated_raw_cx)\n",
    "G_hier_cx.apply_style_from_network(netcoloc_template_updated)\n",
    "\n",
    "network_uuid_hier_mouse_KO = G_hier_cx.upload_to(SERVER, USERNAME, PASSWORD)"
   ]
  },
  {
   "cell_type": "markdown",
   "metadata": {},
   "source": [
    "## 22. Add genes associated with mouse knockout phenotypes to NetColoc subnetwork, export to NDEx. "
   ]
  },
  {
   "cell_type": "code",
   "execution_count": null,
   "metadata": {
    "ExecuteTime": {
     "end_time": "2022-06-14T22:51:53.725611Z",
     "start_time": "2022-06-14T22:51:53.709627Z"
    }
   },
   "outputs": [],
   "source": [
    "# add fields to node_df for genes in each mouse_KO phenotype of interest\n",
    "MP_genes_columns = [c for c in MP_full_results_df.columns.tolist() if c.find(':gene_ids')>-1]\n",
    "\n",
    "# look up overlapping genes in the root node, add them to node_df\n",
    "for MP in MP_genes_columns:\n",
    "    focal_genes = MP_full_results_df.loc[root_node, MP].split(' ')\n",
    "    node_df[MP]=0\n",
    "    node_df.loc[focal_genes, MP]=1\n",
    "node_df.head()"
   ]
  },
  {
   "cell_type": "code",
   "execution_count": null,
   "metadata": {
    "ExecuteTime": {
     "end_time": "2022-06-14T22:52:09.300898Z",
     "start_time": "2022-06-14T22:52:08.559539Z"
    },
    "scrolled": true
   },
   "outputs": [],
   "source": [
    "\n",
    "G_overlap_cx = ndex2.create_nice_cx_from_networkx(G_overlap)\n",
    "G_overlap_cx.set_name(d1_name+'_'+d2_name+'_NetColoc_subgraph') \n",
    "for node_id, node in G_overlap_cx.get_nodes():\n",
    "    data = node_df.loc[node['n']]\n",
    "    for row, value in data.items():\n",
    "        if row == 'd1_seeds' or row == 'd2_seeds' or row=='sum_seeds':\n",
    "            data_type = 'double'\n",
    "        elif row=='d1_name' or row=='d2_name':\n",
    "            data_type='string'\n",
    "        else:\n",
    "            data_type = 'double'\n",
    "        G_overlap_cx.set_node_attribute(node_id, row, value, type=data_type)\n",
    "\n",
    "# apply a template style (834b6ad4-d2ea-11eb-b666-0ac135e8bacf)\n",
    "G_overlap_cx.apply_template('ndexbio.org','834b6ad4-d2ea-11eb-b666-0ac135e8bacf')\n",
    "\n",
    "network_uuid_NetColoc = G_overlap_cx.upload_to(SERVER, USERNAME, PASSWORD)"
   ]
  },
  {
   "cell_type": "markdown",
   "metadata": {},
   "source": [
    "## 23. Upload cosine-similarity transformed NetColoc subnetwork to NDEx"
   ]
  },
  {
   "cell_type": "code",
   "execution_count": null,
   "metadata": {
    "ExecuteTime": {
     "end_time": "2022-06-14T23:00:27.691424Z",
     "start_time": "2022-06-14T23:00:26.793299Z"
    }
   },
   "outputs": [],
   "source": [
    "#Annotate network\n",
    "print(\"Number of nodes in cosine similarity network:\", len(G_cosSim.nodes()))\n",
    "print(\"Number of edges in cosine similarity network:\", len(G_cosSim.edges()))\n",
    "G_cosSim_cx = ndex2.create_nice_cx_from_networkx(G_cosSim)\n",
    "G_cosSim_cx.set_name(d1_name+'_'+d2_name+'_NetColoc_subgraph_CosSim95') \n",
    "for node_id, node in G_cosSim_cx.get_nodes():\n",
    "    data = node_df.loc[node['n']]\n",
    "    for row, value in data.items():\n",
    "        if row == 'd1_seeds' or row == 'd2_seeds' or row=='sum_seeds':\n",
    "            data_type = 'double'\n",
    "        elif row=='d1_name' or row=='d2_name':\n",
    "            data_type='string'\n",
    "        else:\n",
    "            data_type = 'double'\n",
    "        G_cosSim_cx.set_node_attribute(node_id, row, value, type=data_type)\n",
    "        \n",
    "        \n",
    "\n",
    "# apply a template style (834b6ad4-d2ea-11eb-b666-0ac135e8bacf)\n",
    "G_cosSim_cx.apply_template('ndexbio.org','2cbed84b-e5c3-11eb-b666-0ac135e8bacf')\n",
    "\n",
    "network_uuid_NetColoc_CosSim = G_cosSim_cx.upload_to(SERVER, USERNAME, PASSWORD)"
   ]
  },
  {
   "cell_type": "markdown",
   "metadata": {},
   "source": [
    "## 24. Add 4 networks from above to network set"
   ]
  },
  {
   "cell_type": "code",
   "execution_count": null,
   "metadata": {
    "ExecuteTime": {
     "end_time": "2022-06-14T19:50:59.999796Z",
     "start_time": "2022-06-14T19:50:59.863530Z"
    }
   },
   "outputs": [],
   "source": [
    "# append the datestring to the network set to guarantee uniqueness\n",
    "datestr = str(datetime.now())\n",
    "networkSetURL=ndex2.client.Ndex2(host=SERVER,username=USERNAME,password=PASSWORD).create_networkset(d1_name+'-'+d2_name+' network set: '+datestr,'network set for '+d1_name+'-'+d2_name+' NetColoc subgraph and systems map')\n",
    "networkSetURL"
   ]
  },
  {
   "cell_type": "code",
   "execution_count": null,
   "metadata": {
    "ExecuteTime": {
     "end_time": "2022-06-14T19:51:02.492806Z",
     "start_time": "2022-06-14T19:51:02.358891Z"
    }
   },
   "outputs": [],
   "source": [
    "# parse out UUID from URL strings\n",
    "networkSetUUID = networkSetURL.split('/')[-1]\n",
    "networkSetUUID\n",
    "\n",
    "networkURLs = [network_uuid_NetColoc,network_uuid_NetColoc_CosSim,network_uuid_hier,network_uuid_hier_mouse_KO]\n",
    "networkUUIDs = [n.split('/')[-1] for n in networkURLs]\n",
    "\n",
    "ndex2.client.Ndex2(host=SERVER,username=USERNAME,password=PASSWORD).add_networks_to_networkset(networkSetUUID,\n",
    "                                                                                              networkUUIDs)\n"
   ]
  },
  {
   "cell_type": "code",
   "execution_count": null,
   "metadata": {},
   "outputs": [],
   "source": []
  },
  {
   "cell_type": "code",
   "execution_count": null,
   "metadata": {},
   "outputs": [],
   "source": []
  }
 ],
 "metadata": {
  "kernelspec": {
   "display_name": "Python 3",
   "language": "python",
   "name": "python3"
  },
  "language_info": {
   "codemirror_mode": {
    "name": "ipython",
    "version": 3
   },
   "file_extension": ".py",
   "mimetype": "text/x-python",
   "name": "python",
   "nbconvert_exporter": "python",
   "pygments_lexer": "ipython3",
   "version": "3.7.4"
  },
  "toc": {
   "base_numbering": 1,
   "nav_menu": {},
   "number_sections": true,
   "sideBar": true,
   "skip_h1_title": false,
   "title_cell": "Table of Contents",
   "title_sidebar": "Contents",
   "toc_cell": false,
   "toc_position": {},
   "toc_section_display": true,
   "toc_window_display": true
  },
  "varInspector": {
   "cols": {
    "lenName": 16,
    "lenType": 16,
    "lenVar": 40
   },
   "kernels_config": {
    "python": {
     "delete_cmd_postfix": "",
     "delete_cmd_prefix": "del ",
     "library": "var_list.py",
     "varRefreshCmd": "print(var_dic_list())"
    },
    "r": {
     "delete_cmd_postfix": ") ",
     "delete_cmd_prefix": "rm(",
     "library": "var_list.r",
     "varRefreshCmd": "cat(var_dic_list()) "
    }
   },
   "types_to_exclude": [
    "module",
    "function",
    "builtin_function_or_method",
    "instance",
    "_Feature"
   ],
   "window_display": false
  }
 },
 "nbformat": 4,
 "nbformat_minor": 4
}
