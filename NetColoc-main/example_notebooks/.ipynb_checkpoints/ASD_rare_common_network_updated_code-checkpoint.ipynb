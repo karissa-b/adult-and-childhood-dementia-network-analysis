{
 "cells": [
  {
   "cell_type": "markdown",
   "metadata": {},
   "source": [
    "# NetColoc analysis of rare and common variants in Autism spectrum disorder (ASD)\n",
    "\n",
    "Example of NetColoc workflow on genes associated with rare and common variants in autism.\n",
    "\n",
    "Some background:\n",
    "\n",
    "Here we introduce NetColoc, a tool which evaluates the extent to which two gene sets are related in network space, i.e. the extent to which they are colocalized in a molecular interaction network, and interrogates the underlying biological pathways and processes using multiscale community detection. This framework may be applied to any number of scenarios in which gene sets have been associated with a phenotype or condition, including rare and common variants within the same disease, genes associated with two comorbid diseases, genetically correlated GWAS phenotypes, GWAS across two different species, or gene expression changes after treatment with two different drugs, to name a few. NetColoc relies on a dual network propagation approach to identify the region of network space which is significantly proximal to both input gene sets, and as such is highly effective for small to medium input gene sets\n"
   ]
  },
  {
   "cell_type": "code",
   "execution_count": 37,
   "metadata": {},
   "outputs": [],
   "source": [
    "# load required packages\n",
    "\n",
    "import numpy as np\n",
    "import matplotlib.pyplot as plt\n",
    "import seaborn as sns\n",
    "import networkx as nx\n",
    "import pandas as pd\n",
    "import random\n",
    "\n",
    "from IPython.display import display\n",
    "\n",
    "import getpass\n",
    "import ndex2\n",
    "\n",
    "# latex rendering of text in graphs\n",
    "import matplotlib as mpl\n",
    "mpl.rc('text', usetex = False)\n",
    "mpl.rc('font', family = 'serif')\n",
    "\n",
    "from matplotlib import rcParams\n",
    "rcParams['font.family'] = 'sans-serif'\n",
    "rcParams['font.sans-serif'] = ['Arial']\n",
    "\n",
    "sns.set(font_scale=1.4)\n",
    "\n",
    "sns.set_style('white')\n",
    "\n",
    "sns.set_style(\"ticks\", {\"xtick.major.size\": 15, \"ytick.major.size\": 15})\n",
    "plt.rcParams['svg.fonttype'] = 'none'\n",
    "\n",
    "import sys\n",
    "\n",
    "# % matplotlib inline"
   ]
  },
  {
   "cell_type": "code",
   "execution_count": 4,
   "metadata": {},
   "outputs": [
    {
     "data": {
      "text/plain": [
       "<module 'network_colocalization' from '../netcoloc/network_colocalization.py'>"
      ]
     },
     "execution_count": 4,
     "metadata": {},
     "output_type": "execute_result"
    }
   ],
   "source": [
    "import sys\n",
    "sys.path.append('../netcoloc/')\n",
    "\n",
    "import netprop_zscore\n",
    "import netprop\n",
    "import network_colocalization\n",
    "\n",
    "import imp\n",
    "imp.reload(netprop_zscore)\n",
    "imp.reload(netprop)\n",
    "imp.reload(network_colocalization)"
   ]
  },
  {
   "cell_type": "code",
   "execution_count": 5,
   "metadata": {},
   "outputs": [
    {
     "data": {
      "text/plain": [
       "'2.1'"
      ]
     },
     "execution_count": 5,
     "metadata": {},
     "output_type": "execute_result"
    }
   ],
   "source": [
    "nx.__version__"
   ]
  },
  {
   "cell_type": "code",
   "execution_count": 13,
   "metadata": {},
   "outputs": [],
   "source": [
    "# set random seed to enable reproducibility between runs\n",
    "import random\n",
    "np.random.seed(1)"
   ]
  },
  {
   "cell_type": "markdown",
   "metadata": {},
   "source": [
    "# 1. Load two gene sets of interest\n",
    "\n",
    "\n",
    "Identify two gene sets of interest. Gene sets should come from experimental data (not manual curation) to avoid bias. For example, genes associated with significant loci from GWAS (common variants). Summary statistics are readily available for most GWAS. We note there are existing methods to map summary statistics to corresponding genes (REFS MAGMA, TWAS/PREDIXCAN/ FUMA/ PASCAL, etc). In our work we use the PASCAL algorithm (https://journals.plos.org/ploscompbiol/article?id=10.1371/journal.pcbi.1004714), a positional mapper which accounts for linkage disequilibrium. Another example is genes associated with damaging variants from case-control studies in exome sequencing (rare variants). There exist well established pipelines for identifying deleterious variants in exome sequencing (REFS). In this case the variant-gene mapping is trivial because all variants are by definition found within the gene body. In practice, less than 500 genes work best as input to NetColoc, because of sampling issues.\n",
    "\n",
    "**Usage Note**: gene sets should be < 500 genes (propagation algorithm breaks down if seeded with larger sets). If your gene set is larger, only use the top 500 as seeds to the network propagation.\n",
    "\n"
   ]
  },
  {
   "cell_type": "code",
   "execution_count": 7,
   "metadata": {},
   "outputs": [
    {
     "name": "stdout",
     "output_type": "stream",
     "text": [
      "number rare genes:\n",
      "102\n",
      "['CHD8', 'SCN2A', 'SYNGAP1', 'ADNP', 'FOXP1']\n"
     ]
    }
   ],
   "source": [
    "# load rare variants (from https://www.sciencedirect.com/science/article/abs/pii/S0092867419313984)\n",
    "\n",
    "ASD_rare_df = pd.read_csv('../docs/data/HC_genes/Satterstrom--Top-102-ASD-genes--May2019.csv')\n",
    "ASD_rare_df.index=ASD_rare_df['gene']\n",
    "print('number rare genes:')\n",
    "print(len(ASD_rare_df))\n",
    "ASD_rare_genes = ASD_rare_df.index.tolist() # define rare variant genes to seed network propagation\n",
    "print(ASD_rare_genes[0:5])"
   ]
  },
  {
   "cell_type": "code",
   "execution_count": 8,
   "metadata": {},
   "outputs": [
    {
     "name": "stdout",
     "output_type": "stream",
     "text": [
      "number common genes:\n",
      "45\n",
      "['NTM', 'PLEKHM1', 'LRRC37A4P', 'LOC644172', 'CRHR1']\n"
     ]
    }
   ],
   "source": [
    "# load common variant genes (ASD summary stats from LINK, mapped using PASCAL)\n",
    "ASD_common_df = pd.read_csv('../docs/data/HC_genes/ASD_sumstats_pascal.sum.genescores.txt',sep='\\t')\n",
    "pthresh=1E-4 # set p-value cutoff for common variant genes\n",
    "ASD_common_genes = ASD_common_df[ASD_common_df['pvalue']<pthresh]['gene_symbol'].tolist()\n",
    "print('number common genes:')\n",
    "print(len(ASD_common_genes))\n",
    "print(ASD_common_genes[0:5])\n"
   ]
  },
  {
   "cell_type": "code",
   "execution_count": 9,
   "metadata": {},
   "outputs": [
    {
     "name": "stdout",
     "output_type": "stream",
     "text": [
      "number of rare and common genes overlapping:\n",
      "0\n"
     ]
    }
   ],
   "source": [
    "# how much overlap between gene sets?\n",
    "print('number of rare and common genes overlapping:')\n",
    "print(len(np.intersect1d(ASD_common_genes,ASD_rare_genes)))"
   ]
  },
  {
   "cell_type": "markdown",
   "metadata": {},
   "source": [
    "# 2. Load interactome\n",
    "\n",
    "**Coverage**. Larger, denser interactomes will be more inclusive and be amenable to creating more granular models. Human curated interactomes are smaller, sparser and are biased towards known biology. Many, however, have richer descriptions of the relationships. Data derived interactomes based on specific projects have the advantage that the experimental context is well-defined and consistent.  \n",
    "\n",
    "\n",
    "**Interaction Types**. The edges that were useful in computing the coloc may not be useful for interpretation. For example, the edges in PCNet are not typed. For purposes of interpretation we need to know how the genes relate to each other. Further, we are best able to understand physical interactions, and so it may be most useful to review the nodes in a community or other subnetwork using a protein-protein interactome, or at least one in which the edges can be filtered when needed.\n",
    "\n",
    "**Net recommendation**: use an inclusive interactome for generating the model but then annotate subsystem networks with relationships derived from richer, if less comprehensive, sources. Or from sources specifically relevant to the experimental context.\n",
    "\n",
    "\n",
    "**Usage note**: PCnet is a general purpose interactome, a good starting place https://www.sciencedirect.com/science/article/pii/S2405471218300954"
   ]
  },
  {
   "cell_type": "code",
   "execution_count": 10,
   "metadata": {},
   "outputs": [
    {
     "name": "stdout",
     "output_type": "stream",
     "text": [
      "number of nodes:\n",
      "18820\n",
      "\n",
      "number of edges:\n",
      "2693250\n"
     ]
    }
   ],
   "source": [
    "\n",
    "interactome_uuid='4de852d9-9908-11e9-bcaf-0ac135e8bacf' # for PCNet\n",
    "ndex_server='public.ndexbio.org'\n",
    "ndex_user=None\n",
    "ndex_password=None\n",
    "G_PC = ndex2.create_nice_cx_from_server(\n",
    "            ndex_server, \n",
    "            username=ndex_user, \n",
    "            password=ndex_password, \n",
    "            uuid=interactome_uuid\n",
    "        ).to_networkx()\n",
    "nodes = list(G_PC.nodes)\n",
    "\n",
    "# print out interactome num nodes and edges for diagnostic purposes\n",
    "print('number of nodes:')\n",
    "print(len(G_PC.nodes))\n",
    "print('\\nnumber of edges:')\n",
    "print(len(G_PC.edges))"
   ]
  },
  {
   "cell_type": "code",
   "execution_count": 11,
   "metadata": {},
   "outputs": [],
   "source": [
    "pc_nodes = list(G_PC.nodes)"
   ]
  },
  {
   "cell_type": "markdown",
   "metadata": {},
   "source": [
    "# 3. Network co-localization\n",
    "\n",
    "Network propagation from genes on selected interactome\n",
    "- Control for degree of input genes\n",
    "- Generate a proximity z-score, which defines genes which are closer to input set than expected by chance.\n",
    "- Repeat for rare and common variant genes, defined above\n",
    "\n",
    "Background on network propagation: https://www.nature.com/articles/nrg.2017.38.pdf?origin=ppub\n"
   ]
  },
  {
   "cell_type": "code",
   "execution_count": 14,
   "metadata": {},
   "outputs": [
    {
     "name": "stdout",
     "output_type": "stream",
     "text": [
      "\n",
      "calculating w_prime\n",
      "\n",
      "calculating w_double_prime\n"
     ]
    }
   ],
   "source": [
    "# pre calculate mats used for netprop... this step takes a few minutes, more for denser interactomes\n",
    "print('\\ncalculating w_prime')\n",
    "w_prime = netprop.get_normalized_adjacency_matrix(G_PC, conserve_heat=True)\n",
    "\n",
    "print('\\ncalculating w_double_prime')\n",
    "w_double_prime = netprop.get_individual_heats_matrix(w_prime, .5)"
   ]
  },
  {
   "cell_type": "code",
   "execution_count": 15,
   "metadata": {},
   "outputs": [
    {
     "name": "stdout",
     "output_type": "stream",
     "text": [
      "102\n",
      "96\n",
      "45\n",
      "32\n"
     ]
    }
   ],
   "source": [
    "# subset seed genes to those found in interactome\n",
    "print(len(ASD_rare_genes))\n",
    "ASD_rare_genes = list(np.intersect1d(ASD_rare_genes,pc_nodes))\n",
    "print(len(ASD_rare_genes))\n",
    "\n",
    "print(len(ASD_common_genes))\n",
    "ASD_common_genes = list(np.intersect1d(ASD_common_genes,pc_nodes))\n",
    "print(len(ASD_common_genes))\n"
   ]
  },
  {
   "cell_type": "code",
   "execution_count": 16,
   "metadata": {},
   "outputs": [
    {
     "name": "stdout",
     "output_type": "stream",
     "text": [
      "\n",
      "Calculating rare variant z-scores: \n",
      "0\n",
      "250\n",
      "500\n",
      "750\n"
     ]
    },
    {
     "data": {
      "text/html": [
       "<div>\n",
       "<style scoped>\n",
       "    .dataframe tbody tr th:only-of-type {\n",
       "        vertical-align: middle;\n",
       "    }\n",
       "\n",
       "    .dataframe tbody tr th {\n",
       "        vertical-align: top;\n",
       "    }\n",
       "\n",
       "    .dataframe thead th {\n",
       "        text-align: right;\n",
       "    }\n",
       "</style>\n",
       "<table border=\"1\" class=\"dataframe\">\n",
       "  <thead>\n",
       "    <tr style=\"text-align: right;\">\n",
       "      <th></th>\n",
       "      <th>z</th>\n",
       "    </tr>\n",
       "  </thead>\n",
       "  <tbody>\n",
       "    <tr>\n",
       "      <th>TRIP12</th>\n",
       "      <td>24.544681</td>\n",
       "    </tr>\n",
       "    <tr>\n",
       "      <th>NUP155</th>\n",
       "      <td>20.607514</td>\n",
       "    </tr>\n",
       "    <tr>\n",
       "      <th>ADNP</th>\n",
       "      <td>20.100873</td>\n",
       "    </tr>\n",
       "    <tr>\n",
       "      <th>CREBBP</th>\n",
       "      <td>19.879653</td>\n",
       "    </tr>\n",
       "    <tr>\n",
       "      <th>PPP5C</th>\n",
       "      <td>19.776780</td>\n",
       "    </tr>\n",
       "  </tbody>\n",
       "</table>\n",
       "</div>"
      ],
      "text/plain": [
       "                z\n",
       "TRIP12  24.544681\n",
       "NUP155  20.607514\n",
       "ADNP    20.100873\n",
       "CREBBP  19.879653\n",
       "PPP5C   19.776780"
      ]
     },
     "execution_count": 16,
     "metadata": {},
     "output_type": "execute_result"
    }
   ],
   "source": [
    "# Rare variant netprop\n",
    "print('\\nCalculating rare variant z-scores: ')\n",
    "z_rare, Fnew_rare, Fnew_rand_rare = netprop_zscore.calc_zscore_heat(w_double_prime, pc_nodes, \n",
    "                                                                    dict(G_PC.degree), \n",
    "                                                                    ASD_rare_genes, num_reps=1000,\n",
    "                                                                    minimum_bin_size=100)\n",
    "\n",
    "z_rare = pd.DataFrame({'z':z_rare})\n",
    "\n",
    "z_rare.sort_values('z',ascending=False).head()"
   ]
  },
  {
   "cell_type": "code",
   "execution_count": 17,
   "metadata": {},
   "outputs": [
    {
     "name": "stdout",
     "output_type": "stream",
     "text": [
      "\n",
      "Calculating common variant z-scores: \n",
      "0\n",
      "250\n",
      "500\n",
      "750\n"
     ]
    },
    {
     "data": {
      "text/html": [
       "<div>\n",
       "<style scoped>\n",
       "    .dataframe tbody tr th:only-of-type {\n",
       "        vertical-align: middle;\n",
       "    }\n",
       "\n",
       "    .dataframe tbody tr th {\n",
       "        vertical-align: top;\n",
       "    }\n",
       "\n",
       "    .dataframe thead th {\n",
       "        text-align: right;\n",
       "    }\n",
       "</style>\n",
       "<table border=\"1\" class=\"dataframe\">\n",
       "  <thead>\n",
       "    <tr style=\"text-align: right;\">\n",
       "      <th></th>\n",
       "      <th>z</th>\n",
       "    </tr>\n",
       "  </thead>\n",
       "  <tbody>\n",
       "    <tr>\n",
       "      <th>TDH</th>\n",
       "      <td>25.004771</td>\n",
       "    </tr>\n",
       "    <tr>\n",
       "      <th>SPPL2C</th>\n",
       "      <td>24.433193</td>\n",
       "    </tr>\n",
       "    <tr>\n",
       "      <th>PLEKHM1</th>\n",
       "      <td>19.058298</td>\n",
       "    </tr>\n",
       "    <tr>\n",
       "      <th>SOX7</th>\n",
       "      <td>18.496603</td>\n",
       "    </tr>\n",
       "    <tr>\n",
       "      <th>PPP1R3B</th>\n",
       "      <td>17.981501</td>\n",
       "    </tr>\n",
       "  </tbody>\n",
       "</table>\n",
       "</div>"
      ],
      "text/plain": [
       "                 z\n",
       "TDH      25.004771\n",
       "SPPL2C   24.433193\n",
       "PLEKHM1  19.058298\n",
       "SOX7     18.496603\n",
       "PPP1R3B  17.981501"
      ]
     },
     "execution_count": 17,
     "metadata": {},
     "output_type": "execute_result"
    }
   ],
   "source": [
    "# common variant netprop\n",
    "print('\\nCalculating common variant z-scores: ')\n",
    "z_common, Fnew_common, Fnew_rand_common = netprop_zscore.calc_zscore_heat(w_double_prime, pc_nodes, \n",
    "                                                                    dict(G_PC.degree), \n",
    "                                                                    ASD_common_genes, num_reps=1000,\n",
    "                                                                    minimum_bin_size=100)\n",
    "\n",
    "z_common = pd.DataFrame({'z':z_common})\n",
    "z_common.sort_values('z',ascending=False).head()"
   ]
  },
  {
   "cell_type": "code",
   "execution_count": null,
   "metadata": {},
   "outputs": [],
   "source": []
  },
  {
   "cell_type": "markdown",
   "metadata": {},
   "source": [
    "## calculate size of network overlap, and compare to expected size\n",
    "\n",
    "\n",
    "Size of network co-localization subgraph compared to null model created by permuting individual propagation z-scores. \n",
    "\n",
    "\n",
    "Note: seed genes are excluded from this calculation\n",
    "\n"
   ]
  },
  {
   "cell_type": "code",
   "execution_count": 18,
   "metadata": {},
   "outputs": [
    {
     "name": "stdout",
     "output_type": "stream",
     "text": [
      "ASD_rare + ASD_common\n",
      "size of network intersection = 302\n",
      "observed size/ expected size = 1.5962873105730249\n",
      "p = 2.836069326785436e-21\n"
     ]
    }
   ],
   "source": [
    "from scipy.stats import hypergeom\n",
    "from scipy.stats import norm\n",
    "\n",
    "# ------ customize this section based on your gene sets and how they should be labeled -------\n",
    "z_dict = {'ASD_rare':z_rare,'ASD_common':z_common}\n",
    "\n",
    "seed_dict = {'ASD_rare':ASD_rare_genes,'ASD_common':ASD_common_genes}\n",
    "# --------------------------------------------------------------------------------------------\n",
    "\n",
    "# save the num overlap and overlap p-val in dataframes\n",
    "\n",
    "focal_diseases = ['ASD_rare','ASD_common']\n",
    "\n",
    "network_num_overlap = pd.DataFrame(np.zeros((len(focal_diseases),len(focal_diseases))),index=focal_diseases)\n",
    "network_num_overlap.columns = focal_diseases\n",
    "\n",
    "network_obs_exp = pd.DataFrame(np.zeros((len(focal_diseases),len(focal_diseases))),index=focal_diseases)\n",
    "network_obs_exp.columns = focal_diseases\n",
    "\n",
    "network_pval_overlap = pd.DataFrame(np.ones((len(focal_diseases),len(focal_diseases))),index=focal_diseases)\n",
    "network_pval_overlap.columns = focal_diseases\n",
    "\n",
    "network_exp_mean_overlap = pd.DataFrame(np.ones((len(focal_diseases),len(focal_diseases))),index=focal_diseases)\n",
    "network_exp_mean_overlap.columns = focal_diseases\n",
    "\n",
    "network_exp_std_overlap = pd.DataFrame(np.ones((len(focal_diseases),len(focal_diseases))),index=focal_diseases)\n",
    "network_exp_std_overlap.columns = focal_diseases\n",
    "\n",
    "\n",
    "zthresh=3\n",
    "for i in np.arange(len(focal_diseases)-1):\n",
    "    for j in np.arange(1+i,len(focal_diseases)):\n",
    "        d1=focal_diseases[i]\n",
    "        d2=focal_diseases[j]\n",
    "        \n",
    "        seed1 = seed_dict[d1]\n",
    "        seed2 = seed_dict[d2]\n",
    "        \n",
    "        z1=z_dict[d1]\n",
    "        z1_noseeds = z1.drop(list(np.intersect1d(seed1+seed2,z1.index.tolist())))\n",
    "        z2=z_dict[d2]\n",
    "        z2_noseeds = z2.drop(list(np.intersect1d(seed1+seed2,z2.index.tolist())))\n",
    "\n",
    "        # replace hypergeometric with permutation empirical p\n",
    "#         z_d1d2_size,high_z_rand=network_colocalization.calculate_expected_overlap(d1,d2,z1_noseeds,z2_noseeds,\n",
    "#                                                            plot=False,numreps=1000,zthresh=zthresh)\n",
    "\n",
    "        z_d1d2_size,high_z_rand=network_colocalization.calculate_expected_overlap(z1['z'],z2['z'],d1,d2,\n",
    "                                                           plot=False,num_reps=1000,z_score_threshold=zthresh)\n",
    "        ztemp = (z_d1d2_size-np.mean(high_z_rand))/np.std(high_z_rand)\n",
    "        ptemp = norm.sf(ztemp)\n",
    "        print(d1+' + '+d2)\n",
    "        print('size of network intersection = '+str(z_d1d2_size))\n",
    "        obs_exp_temp = float(z_d1d2_size)/np.mean(high_z_rand)\n",
    "        print('observed size/ expected size = ' + str(obs_exp_temp))\n",
    "        print('p = '+ str(ptemp))\n",
    "        \n",
    "        \n",
    "        network_num_overlap.loc[d1][d2]=z_d1d2_size\n",
    "        network_num_overlap.loc[d2][d1]=z_d1d2_size\n",
    "\n",
    "        network_pval_overlap.loc[d1][d2]=ptemp\n",
    "        network_pval_overlap.loc[d2][d1]=ptemp\n",
    "        \n",
    "        network_obs_exp.loc[d1][d2]=obs_exp_temp\n",
    "        network_obs_exp.loc[d2][d1]=obs_exp_temp\n",
    "        \n",
    "        network_exp_mean_overlap.loc[d1][d2]=np.mean(high_z_rand)\n",
    "        network_exp_mean_overlap.loc[d2][d1]=np.mean(high_z_rand)\n",
    "        \n",
    "        network_exp_std_overlap.loc[d1][d2]=np.std(high_z_rand)\n",
    "        network_exp_std_overlap.loc[d2][d1]=np.std(high_z_rand)\n",
    "        \n",
    "        "
   ]
  },
  {
   "cell_type": "code",
   "execution_count": 19,
   "metadata": {
    "scrolled": false
   },
   "outputs": [
    {
     "data": {
      "text/plain": [
       "(-0.5, 0.5)"
      ]
     },
     "execution_count": 19,
     "metadata": {},
     "output_type": "execute_result"
    },
    {
     "data": {
      "image/png": "[encoded data removed]",
      "text/plain": [
       "<Figure size 144x216 with 1 Axes>"
      ]
     },
     "metadata": {},
     "output_type": "display_data"
    }
   ],
   "source": [
    "# plot the overlap ... useful when there are lots of comparisons... not so much here\n",
    "xlabels = []\n",
    "observed_overlap_list=[]\n",
    "mean_exp_overlap_list=[]\n",
    "std_exp_overlap_list=[]\n",
    "for i in range(len(focal_diseases)-1): #[0]: #\n",
    "    for j in range(i+1,len(focal_diseases)):\n",
    "        di = focal_diseases[i]\n",
    "        dj=focal_diseases[j]\n",
    "        xlabels.append(di+'-'+dj)\n",
    "        observed_overlap_list.append(network_num_overlap.loc[di][dj])\n",
    "        mean_exp_overlap_list.append(network_exp_mean_overlap.loc[di][dj])\n",
    "        std_exp_overlap_list.append(network_exp_std_overlap.loc[di][dj])\n",
    "        \n",
    "obs_div_exp_list = np.divide(observed_overlap_list,mean_exp_overlap_list)\n",
    "# change to 95% confidence interval (*1.96 sigma)\n",
    "yerr_lower =  np.subtract(obs_div_exp_list,np.divide(observed_overlap_list,np.add(mean_exp_overlap_list,1.96*np.array(std_exp_overlap_list))))\n",
    "yerr_upper = np.subtract(np.divide(observed_overlap_list,np.subtract(mean_exp_overlap_list,1.96*np.array(std_exp_overlap_list))),obs_div_exp_list)\n",
    "\n",
    "log_yerr_lower = np.subtract(np.log2(obs_div_exp_list),np.log2(np.divide(observed_overlap_list,np.add(mean_exp_overlap_list,2*np.array(std_exp_overlap_list)))))\n",
    "log_yerr_upper = np.subtract(np.log2(np.divide(observed_overlap_list,np.subtract(mean_exp_overlap_list,2*np.array(std_exp_overlap_list)))),np.log2(obs_div_exp_list))\n",
    "\n",
    "log_obs_div_exp=np.log2(obs_div_exp_list)\n",
    "# log_yerr_lower=np.log2(obs_div_exp_lower_list)\n",
    "# log_yerr_upper=np.log2(obs_div_exp_upper_list)\n",
    "\n",
    "network_intersection_df = pd.DataFrame({'name':xlabels,'observed_overlap':observed_overlap_list,\n",
    "                                       'log2_obs_div_exp':log_obs_div_exp,\n",
    "                                       'log2_yerr_lower':log_yerr_lower,\n",
    "                                       'log2_yerr_upper':log_yerr_upper,\n",
    "                                        'obs_div_exp':obs_div_exp_list,\n",
    "                                       'yerr_lower':yerr_lower,\n",
    "                                       'yerr_upper':yerr_upper})\n",
    "network_intersection_df.index=network_intersection_df['name']\n",
    "\n",
    "# sort it \n",
    "network_intersection_df=network_intersection_df.sort_values('obs_div_exp',ascending=False)\n",
    "\n",
    "plt.figure(figsize=(2,3))\n",
    "plt.errorbar(np.arange(len(network_intersection_df)),network_intersection_df['obs_div_exp'],\n",
    "             yerr=[network_intersection_df['yerr_lower'],network_intersection_df['yerr_upper']],\n",
    "             fmt='o',color='k')\n",
    "tmp=plt.xticks(np.arange(len(observed_overlap_list)),network_intersection_df.index.tolist(),fontsize=16,rotation='vertical')\n",
    "plt.ylabel('observed/expected size of network intersection\\n(95% CI)',fontsize=16)\n",
    "#plt.plot([0,len(obs_div_exp_list)],[0,0],'gray','--')\n",
    "plt.hlines(1,xmin=-.5,xmax=len(network_intersection_df),color='gray',linestyles='dashed')\n",
    "# plt.ylim([0.8,1.5])\n",
    "plt.yticks(fontsize=16)\n",
    "plt.xlim([-.5,len(network_intersection_df)-.5])"
   ]
  },
  {
   "cell_type": "markdown",
   "metadata": {},
   "source": [
    "## Output network overlap to NDEx/cytoscape for clustering/annotation\n",
    "\n",
    "----- If a significant overlap is detected: ------\n",
    "\n",
    "Create the network co-localization subgraph, save network to NDEX, then open in Cytoscape for clustering/annotation. (See CDAPS documentation) \n"
   ]
  },
  {
   "cell_type": "code",
   "execution_count": 21,
   "metadata": {},
   "outputs": [],
   "source": [
    "network_colocalization.calculate_network_overlap?"
   ]
  },
  {
   "cell_type": "code",
   "execution_count": 28,
   "metadata": {},
   "outputs": [
    {
     "name": "stdout",
     "output_type": "stream",
     "text": [
      "302\n",
      "2892\n"
     ]
    }
   ],
   "source": [
    "# select genes in network intersection, make a subgraph\n",
    "d1='ASD_rare'\n",
    "d2='ASD_common'\n",
    "z1=z_dict[d1]\n",
    "z2=z_dict[d2]\n",
    "\n",
    "G_overlap = network_colocalization.calculate_network_overlap_subgraph(G_PC,z1['z'],z2['z'],z_score_threshold=3)\n",
    "print(len(G_overlap.nodes()))\n",
    "print(len(G_overlap.edges()))"
   ]
  },
  {
   "cell_type": "code",
   "execution_count": 32,
   "metadata": {},
   "outputs": [
    {
     "data": {
      "text/html": [
       "<div>\n",
       "<style scoped>\n",
       "    .dataframe tbody tr th:only-of-type {\n",
       "        vertical-align: middle;\n",
       "    }\n",
       "\n",
       "    .dataframe tbody tr th {\n",
       "        vertical-align: top;\n",
       "    }\n",
       "\n",
       "    .dataframe thead th {\n",
       "        text-align: right;\n",
       "    }\n",
       "</style>\n",
       "<table border=\"1\" class=\"dataframe\">\n",
       "  <thead>\n",
       "    <tr style=\"text-align: right;\">\n",
       "      <th></th>\n",
       "      <th>ASD_rare_seeds</th>\n",
       "      <th>ASD_common_seeds</th>\n",
       "      <th>z_ASD_rare</th>\n",
       "      <th>z_ASD_common</th>\n",
       "      <th>z_both</th>\n",
       "    </tr>\n",
       "  </thead>\n",
       "  <tbody>\n",
       "    <tr>\n",
       "      <th>ADNP</th>\n",
       "      <td>1</td>\n",
       "      <td>0</td>\n",
       "      <td>20.100873</td>\n",
       "      <td>4.038478</td>\n",
       "      <td>81.176939</td>\n",
       "    </tr>\n",
       "    <tr>\n",
       "      <th>DPYSL2</th>\n",
       "      <td>1</td>\n",
       "      <td>0</td>\n",
       "      <td>19.276776</td>\n",
       "      <td>2.668482</td>\n",
       "      <td>51.439726</td>\n",
       "    </tr>\n",
       "    <tr>\n",
       "      <th>CTNNB1</th>\n",
       "      <td>1</td>\n",
       "      <td>0</td>\n",
       "      <td>17.027202</td>\n",
       "      <td>2.849070</td>\n",
       "      <td>48.511686</td>\n",
       "    </tr>\n",
       "    <tr>\n",
       "      <th>SOX7</th>\n",
       "      <td>0</td>\n",
       "      <td>1</td>\n",
       "      <td>2.542357</td>\n",
       "      <td>18.496603</td>\n",
       "      <td>47.024967</td>\n",
       "    </tr>\n",
       "    <tr>\n",
       "      <th>IRF2BPL</th>\n",
       "      <td>1</td>\n",
       "      <td>0</td>\n",
       "      <td>11.712917</td>\n",
       "      <td>3.526067</td>\n",
       "      <td>41.300524</td>\n",
       "    </tr>\n",
       "  </tbody>\n",
       "</table>\n",
       "</div>"
      ],
      "text/plain": [
       "         ASD_rare_seeds  ASD_common_seeds  z_ASD_rare  z_ASD_common     z_both\n",
       "ADNP                  1                 0   20.100873      4.038478  81.176939\n",
       "DPYSL2                1                 0   19.276776      2.668482  51.439726\n",
       "CTNNB1                1                 0   17.027202      2.849070  48.511686\n",
       "SOX7                  0                 1    2.542357     18.496603  47.024967\n",
       "IRF2BPL               1                 0   11.712917      3.526067  41.300524"
      ]
     },
     "execution_count": 32,
     "metadata": {},
     "output_type": "execute_result"
    }
   ],
   "source": [
    "# compile dataframe of metadata for overlapping nodes\n",
    "node_df = pd.DataFrame(index=list(G_overlap.nodes))\n",
    "node_df[d1+'_seeds']=0\n",
    "node_df[d2+'_seeds']=0\n",
    "node_df[d1+'_seeds'].loc[list(np.intersect1d(d1_seeds_in_network,node_df.index.tolist()))]=1\n",
    "node_df[d2+'_seeds'].loc[list(np.intersect1d(d2_seeds_in_network,node_df.index.tolist()))]=1\n",
    "node_df['z_'+d1]=z1.loc[list(G_overlap.nodes)]['z']\n",
    "node_df['z_'+d2]=z2.loc[list(G_overlap.nodes)]['z']\n",
    "node_df['z_both']=node_df['z_'+d1]*node_df['z_'+d2]\n",
    "\n",
    "node_df = node_df.sort_values('z_both',ascending=False)\n",
    "node_df.head()"
   ]
  },
  {
   "cell_type": "code",
   "execution_count": null,
   "metadata": {},
   "outputs": [],
   "source": []
  },
  {
   "cell_type": "markdown",
   "metadata": {},
   "source": [
    "## Annotate network and upload to NDEx\n"
   ]
  },
  {
   "cell_type": "code",
   "execution_count": 38,
   "metadata": {},
   "outputs": [
    {
     "name": "stdout",
     "output_type": "stream",
     "text": [
      "302\n",
      "2892\n",
      "NDEx server (probably ndexbio.org): ndexbio.org\n",
      "NDEx user name: sbrosenthal@health.ucsd.edu\n",
      "NDEx password: ········\n",
      "Generating CX\n"
     ]
    }
   ],
   "source": [
    "# ----- a number of properties should be customized here ------\n",
    "\n",
    "#Annotate network\n",
    "print(len(G_overlap.nodes()))\n",
    "print(len(G_overlap.edges()))\n",
    "G_overlap_cx = ndex2.create_nice_cx_from_networkx(G_overlap)\n",
    "G_overlap_cx.set_name('ASD_rare_common_network_temp') \n",
    "for node_id, node in G_overlap_cx.get_nodes():\n",
    "    data = node_df.loc[node['n']]\n",
    "    for row, value in data.items():\n",
    "        if row == 'ASD_rare_seeds' or row == 'ASD_common_seeds':\n",
    "            data_type = 'boolean'\n",
    "            if value == 0:\n",
    "                value = False\n",
    "            else:\n",
    "                value = True\n",
    "        else:\n",
    "            data_type = 'double'\n",
    "        G_overlap_cx.set_node_attribute(node_id, row, value, type=data_type)\n",
    "\n",
    "#Upload to NDEx\n",
    "SERVER = input('NDEx server (probably ndexbio.org): ')\n",
    "USERNAME = input('NDEx user name: ')\n",
    "PASSWORD = getpass.getpass('NDEx password: ')\n",
    "network_uuid = G_overlap_cx.upload_to(SERVER, USERNAME, PASSWORD)\n",
    "\n"
   ]
  },
  {
   "cell_type": "markdown",
   "metadata": {},
   "source": [
    "# 4. Build multiscale systems map\n",
    "\n",
    "This step performed in Cytoscape\n",
    "\n",
    "https://apps.cytoscape.org/apps/cycommunitydetection\n",
    "\n",
    "Instructions for use available in the manuscript"
   ]
  },
  {
   "cell_type": "code",
   "execution_count": null,
   "metadata": {},
   "outputs": [],
   "source": []
  }
 ],
 "metadata": {
  "kernelspec": {
   "display_name": "Python 3",
   "language": "python",
   "name": "python3"
  },
  "language_info": {
   "codemirror_mode": {
    "name": "ipython",
    "version": 3
   },
   "file_extension": ".py",
   "mimetype": "text/x-python",
   "name": "python",
   "nbconvert_exporter": "python",
   "pygments_lexer": "ipython3",
   "version": "3.7.4"
  }
 },
 "nbformat": 4,
 "nbformat_minor": 4
}
